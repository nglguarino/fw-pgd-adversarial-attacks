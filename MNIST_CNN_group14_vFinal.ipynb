{
  "nbformat": 4,
  "nbformat_minor": 0,
  "metadata": {
    "colab": {
      "provenance": [],
      "gpuType": "T4"
    },
    "kernelspec": {
      "name": "python3",
      "display_name": "Python 3"
    },
    "language_info": {
      "name": "python"
    },
    "accelerator": "GPU"
  },
  "cells": [
    {
      "cell_type": "code",
      "execution_count": null,
      "metadata": {
        "id": "2AyXb7YFXYxA"
      },
      "outputs": [],
      "source": [
        "import torch\n",
        "import torch.nn as nn\n",
        "import torch.optim as optim\n",
        "from torchvision import datasets, transforms\n",
        "from torch.utils.data import DataLoader\n",
        "import matplotlib.pyplot as plt\n",
        "import torch.nn.functional as F"
      ]
    },
    {
      "cell_type": "code",
      "source": [
        "class MNIST_CNN(nn.Module):\n",
        "    def __init__(self):\n",
        "        super(MNIST_CNN, self).__init__()\n",
        "        # 4 Convolutional Layers\n",
        "        self.conv1 = nn.Conv2d(1, 32, kernel_size=3, stride=1, padding=1)\n",
        "        self.conv2 = nn.Conv2d(32, 32, kernel_size=3, stride=1, padding=1)\n",
        "        self.conv3 = nn.Conv2d(32, 64, kernel_size=3, stride=1, padding=1)\n",
        "        self.conv4 = nn.Conv2d(64, 64, kernel_size=3, stride=1, padding=1)\n",
        "        # 2 Dense Layers\n",
        "        self.fc1 = nn.Linear(7*7*64, 200)\n",
        "        self.fc2 = nn.Linear(200, 10)\n",
        "\n",
        "    def forward(self, x):\n",
        "        x = F.relu(self.conv1(x))\n",
        "        x = F.max_pool2d(F.relu(self.conv2(x)), 2)\n",
        "        x = F.relu(self.conv3(x))\n",
        "        x = F.max_pool2d(F.relu(self.conv4(x)), 2)\n",
        "        x = x.view(-1, 7*7*64)\n",
        "        x = F.relu(self.fc1(x))\n",
        "        x = self.fc2(x)\n",
        "        return x"
      ],
      "metadata": {
        "id": "jV_plSnjX45-"
      },
      "execution_count": null,
      "outputs": []
    },
    {
      "cell_type": "code",
      "source": [
        "# Hyperparameters\n",
        "num_epochs = 5\n",
        "batch_size = 64\n",
        "learning_rate = 0.0005\n",
        "\n",
        "# Setup device (use GPU if available)\n",
        "device = torch.device(\"cuda\" if torch.cuda.is_available() else \"cpu\")\n",
        "print(f\"Using device: {device}\")\n",
        "\n",
        "# Instantiate the model and move it to the device\n",
        "model = MNIST_CNN().to(device)\n",
        "\n",
        "# Loss and optimizer\n",
        "criterion = nn.CrossEntropyLoss()\n",
        "optimizer = optim.Adam(model.parameters(), lr=learning_rate)"
      ],
      "metadata": {
        "colab": {
          "base_uri": "https://localhost:8080/"
        },
        "id": "TR-C0zFDX9Jr",
        "outputId": "35c5c076-3495-4eab-f03c-09ed5838dcc8"
      },
      "execution_count": null,
      "outputs": [
        {
          "output_type": "stream",
          "name": "stdout",
          "text": [
            "Using device: cuda\n"
          ]
        }
      ]
    },
    {
      "cell_type": "code",
      "source": [
        "# Data transform\n",
        "transform = transforms.Compose([\n",
        "    transforms.ToTensor(),\n",
        "])\n",
        "\n",
        "# Load training and test data\n",
        "train_dataset = datasets.MNIST(root='./data', train=True, download=True, transform=transform)\n",
        "test_dataset = datasets.MNIST(root='./data', train=False, download=True, transform=transform)\n",
        "\n",
        "# Create data loaders\n",
        "train_loader = DataLoader(dataset=train_dataset, batch_size=batch_size, shuffle=True)\n",
        "test_loader = DataLoader(dataset=test_dataset, batch_size=batch_size, shuffle=False)"
      ],
      "metadata": {
        "id": "lCXQGiO-YA0R"
      },
      "execution_count": null,
      "outputs": []
    },
    {
      "cell_type": "code",
      "source": [
        "# To store loss values for plotting\n",
        "loss_history = []\n",
        "\n",
        "# Training loop\n",
        "n_total_steps = len(train_loader)\n",
        "for epoch in range(num_epochs):\n",
        "    for i, (images, labels) in enumerate(train_loader):\n",
        "        # Move tensors to the configured device\n",
        "        images = images.to(device)\n",
        "        labels = labels.to(device)\n",
        "\n",
        "        # Forward pass\n",
        "        outputs = model(images)\n",
        "        loss = criterion(outputs, labels)\n",
        "\n",
        "        # Backward and optimize\n",
        "        optimizer.zero_grad()\n",
        "        loss.backward()\n",
        "        optimizer.step()\n",
        "\n",
        "        # Store loss\n",
        "        loss_history.append(loss.item())\n",
        "\n",
        "        if (i+1) % 100 == 0:\n",
        "            print (f'Epoch [{epoch+1}/{num_epochs}], Step [{i+1}/{n_total_steps}], Loss: {loss.item():.4f}')\n",
        "\n",
        "print(\"Finished Training\")"
      ],
      "metadata": {
        "colab": {
          "base_uri": "https://localhost:8080/"
        },
        "id": "lqHzlOwpYCj4",
        "outputId": "6e624a04-111e-4c33-c458-716ca89b46a2"
      },
      "execution_count": null,
      "outputs": [
        {
          "output_type": "stream",
          "name": "stdout",
          "text": [
            "Epoch [1/5], Step [100/938], Loss: 0.2287\n",
            "Epoch [1/5], Step [200/938], Loss: 0.1130\n",
            "Epoch [1/5], Step [300/938], Loss: 0.2942\n",
            "Epoch [1/5], Step [400/938], Loss: 0.0154\n",
            "Epoch [1/5], Step [500/938], Loss: 0.0783\n",
            "Epoch [1/5], Step [600/938], Loss: 0.0891\n",
            "Epoch [1/5], Step [700/938], Loss: 0.0852\n",
            "Epoch [1/5], Step [800/938], Loss: 0.0202\n",
            "Epoch [1/5], Step [900/938], Loss: 0.1917\n",
            "Epoch [2/5], Step [100/938], Loss: 0.0701\n",
            "Epoch [2/5], Step [200/938], Loss: 0.0227\n",
            "Epoch [2/5], Step [300/938], Loss: 0.1958\n",
            "Epoch [2/5], Step [400/938], Loss: 0.0102\n",
            "Epoch [2/5], Step [500/938], Loss: 0.0180\n",
            "Epoch [2/5], Step [600/938], Loss: 0.0635\n",
            "Epoch [2/5], Step [700/938], Loss: 0.0738\n",
            "Epoch [2/5], Step [800/938], Loss: 0.0072\n",
            "Epoch [2/5], Step [900/938], Loss: 0.0125\n",
            "Epoch [3/5], Step [100/938], Loss: 0.0068\n",
            "Epoch [3/5], Step [200/938], Loss: 0.0126\n",
            "Epoch [3/5], Step [300/938], Loss: 0.0196\n",
            "Epoch [3/5], Step [400/938], Loss: 0.0034\n",
            "Epoch [3/5], Step [500/938], Loss: 0.0006\n",
            "Epoch [3/5], Step [600/938], Loss: 0.0143\n",
            "Epoch [3/5], Step [700/938], Loss: 0.0199\n",
            "Epoch [3/5], Step [800/938], Loss: 0.0007\n",
            "Epoch [3/5], Step [900/938], Loss: 0.0283\n",
            "Epoch [4/5], Step [100/938], Loss: 0.0373\n",
            "Epoch [4/5], Step [200/938], Loss: 0.0063\n",
            "Epoch [4/5], Step [300/938], Loss: 0.0384\n",
            "Epoch [4/5], Step [400/938], Loss: 0.0022\n",
            "Epoch [4/5], Step [500/938], Loss: 0.0437\n",
            "Epoch [4/5], Step [600/938], Loss: 0.0139\n",
            "Epoch [4/5], Step [700/938], Loss: 0.0309\n",
            "Epoch [4/5], Step [800/938], Loss: 0.0081\n",
            "Epoch [4/5], Step [900/938], Loss: 0.1176\n",
            "Epoch [5/5], Step [100/938], Loss: 0.0832\n",
            "Epoch [5/5], Step [200/938], Loss: 0.0021\n",
            "Epoch [5/5], Step [300/938], Loss: 0.0103\n",
            "Epoch [5/5], Step [400/938], Loss: 0.0018\n",
            "Epoch [5/5], Step [500/938], Loss: 0.0008\n",
            "Epoch [5/5], Step [600/938], Loss: 0.0213\n",
            "Epoch [5/5], Step [700/938], Loss: 0.0295\n",
            "Epoch [5/5], Step [800/938], Loss: 0.0014\n",
            "Epoch [5/5], Step [900/938], Loss: 0.0278\n",
            "Finished Training\n"
          ]
        }
      ]
    },
    {
      "cell_type": "code",
      "source": [
        "# Test the model\n",
        "model.eval()  # Set the model to evaluation mode\n",
        "with torch.no_grad():\n",
        "    n_correct = 0\n",
        "    n_samples = 0\n",
        "    for images, labels in test_loader:\n",
        "        images = images.to(device)\n",
        "        labels = labels.to(device)\n",
        "        outputs = model(images)\n",
        "        # max returns (value ,index)\n",
        "        _, predicted = torch.max(outputs.data, 1)\n",
        "        n_samples += labels.size(0)\n",
        "        n_correct += (predicted == labels).sum().item()\n",
        "\n",
        "    acc = 100.0 * n_correct / n_samples\n",
        "    print(f'Accuracy of the network on the 10000 test images: {acc:.2f} %')"
      ],
      "metadata": {
        "colab": {
          "base_uri": "https://localhost:8080/"
        },
        "id": "ZF6FrBNaYE_-",
        "outputId": "67902c3e-5db3-4e66-eeed-4b54c8767215"
      },
      "execution_count": null,
      "outputs": [
        {
          "output_type": "stream",
          "name": "stdout",
          "text": [
            "Accuracy of the network on the 10000 test images: 99.10 %\n"
          ]
        }
      ]
    },
    {
      "cell_type": "code",
      "source": [
        "# Save the model state dict\n",
        "torch.save(model.state_dict(), \"mnist_cnn.pth\")\n",
        "print(\"Model saved to mnist_cnn.pth\")"
      ],
      "metadata": {
        "colab": {
          "base_uri": "https://localhost:8080/"
        },
        "id": "nf1YbvfHYGtK",
        "outputId": "7f4f28b8-aed5-498d-d397-ab63bb48bcc7"
      },
      "execution_count": null,
      "outputs": [
        {
          "output_type": "stream",
          "name": "stdout",
          "text": [
            "Model saved to mnist_cnn.pth\n"
          ]
        }
      ]
    },
    {
      "cell_type": "code",
      "source": [
        "# Plot the training loss\n",
        "plt.figure(figsize=(10,5))\n",
        "plt.plot(loss_history)\n",
        "plt.title(\"Training Loss\")\n",
        "plt.xlabel(\"Iteration\")\n",
        "plt.ylabel(\"Loss\")\n",
        "plt.show()"
      ],
      "metadata": {
        "colab": {
          "base_uri": "https://localhost:8080/",
          "height": 487
        },
        "id": "i-XUgRIPYIZJ",
        "outputId": "db4b7a80-7a43-4b78-f6e2-304677109ab2"
      },
      "execution_count": null,
      "outputs": [
        {
          "output_type": "display_data",
          "data": {
            "text/plain": [
              "<Figure size 1000x500 with 1 Axes>"
            ],
            "image/png": "[encoded data removed]"
          },
          "metadata": {}
        }
      ]
    }
  ]
}